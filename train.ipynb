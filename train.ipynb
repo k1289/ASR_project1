{
 "cells": [
  {
   "cell_type": "code",
   "execution_count": 3,
   "metadata": {},
   "outputs": [],
   "source": [
    "import pandas as pd\n",
    "import numpy as np\n",
    "from sklearn.mixture import GaussianMixture\n",
    "import pickle"
   ]
  },
  {
   "cell_type": "code",
   "execution_count": 4,
   "metadata": {},
   "outputs": [],
   "source": [
    "timit_df = pd.read_hdf(\"train2.hdf\")"
   ]
  },
  {
   "cell_type": "code",
   "execution_count": 5,
   "metadata": {},
   "outputs": [
    {
     "data": {
      "text/html": [
       "<div>\n",
       "<table border=\"1\" class=\"dataframe\">\n",
       "  <thead>\n",
       "    <tr style=\"text-align: right;\">\n",
       "      <th></th>\n",
       "      <th>features</th>\n",
       "      <th>labels</th>\n",
       "    </tr>\n",
       "  </thead>\n",
       "  <tbody>\n",
       "    <tr>\n",
       "      <th>0</th>\n",
       "      <td>[6.827545062911363, -31.824121059207688, -6.55...</td>\n",
       "      <td>sil</td>\n",
       "    </tr>\n",
       "    <tr>\n",
       "      <th>1</th>\n",
       "      <td>[6.70766922870581, -25.25615714041625, -4.6685...</td>\n",
       "      <td>sil</td>\n",
       "    </tr>\n",
       "    <tr>\n",
       "      <th>2</th>\n",
       "      <td>[7.159189212079523, -23.60427856243226, -13.06...</td>\n",
       "      <td>sil</td>\n",
       "    </tr>\n",
       "    <tr>\n",
       "      <th>3</th>\n",
       "      <td>[8.2792130032043, -22.048277126965345, -24.025...</td>\n",
       "      <td>sil</td>\n",
       "    </tr>\n",
       "    <tr>\n",
       "      <th>4</th>\n",
       "      <td>[8.51029438049915, -23.54432228633711, -29.466...</td>\n",
       "      <td>sil</td>\n",
       "    </tr>\n",
       "  </tbody>\n",
       "</table>\n",
       "</div>"
      ],
      "text/plain": [
       "                                            features labels\n",
       "0  [6.827545062911363, -31.824121059207688, -6.55...    sil\n",
       "1  [6.70766922870581, -25.25615714041625, -4.6685...    sil\n",
       "2  [7.159189212079523, -23.60427856243226, -13.06...    sil\n",
       "3  [8.2792130032043, -22.048277126965345, -24.025...    sil\n",
       "4  [8.51029438049915, -23.54432228633711, -29.466...    sil"
      ]
     },
     "execution_count": 5,
     "metadata": {},
     "output_type": "execute_result"
    }
   ],
   "source": [
    "timit_df.head()"
   ]
  },
  {
   "cell_type": "code",
   "execution_count": 6,
   "metadata": {},
   "outputs": [],
   "source": [
    "features = np.array(timit_df[\"features\"].tolist())\n",
    "labels = np.array(timit_df[\"labels\"].tolist())"
   ]
  },
  {
   "cell_type": "code",
   "execution_count": 7,
   "metadata": {},
   "outputs": [
    {
     "data": {
      "text/plain": [
       "(205377, 26)"
      ]
     },
     "execution_count": 7,
     "metadata": {},
     "output_type": "execute_result"
    }
   ],
   "source": [
    "features[labels == 'sil'].shape"
   ]
  },
  {
   "cell_type": "code",
   "execution_count": 8,
   "metadata": {},
   "outputs": [
    {
     "data": {
      "text/plain": [
       "['',\n",
       " 'ey',\n",
       " 'oy',\n",
       " 'ch',\n",
       " 'ng',\n",
       " 'aa',\n",
       " 'ae',\n",
       " 'ay',\n",
       " 'f',\n",
       " 'v',\n",
       " 'uw',\n",
       " 'er',\n",
       " 'ow',\n",
       " 'k',\n",
       " 'aw',\n",
       " 'y',\n",
       " 'th',\n",
       " 'dh',\n",
       " 'hh',\n",
       " 'dx',\n",
       " 'z',\n",
       " 'uh',\n",
       " 'r',\n",
       " 't',\n",
       " 'w',\n",
       " 's',\n",
       " 'ah',\n",
       " 'sh',\n",
       " 'd',\n",
       " 'p',\n",
       " 'm',\n",
       " 'sil',\n",
       " 'b',\n",
       " 'n',\n",
       " 'iy',\n",
       " 'l',\n",
       " 'eh',\n",
       " 'jh',\n",
       " 'g',\n",
       " 'ih']"
      ]
     },
     "execution_count": 8,
     "metadata": {},
     "output_type": "execute_result"
    }
   ],
   "source": [
    "list(set(labels))"
   ]
  },
  {
   "cell_type": "code",
   "execution_count": 9,
   "metadata": {},
   "outputs": [
    {
     "data": {
      "text/plain": [
       "40"
      ]
     },
     "execution_count": 9,
     "metadata": {},
     "output_type": "execute_result"
    }
   ],
   "source": [
    "\n",
    "phonemes=list(set(labels))\n",
    "len(phonemes)\n"
   ]
  },
  {
   "cell_type": "code",
   "execution_count": 20,
   "metadata": {},
   "outputs": [],
   "source": [
    "gmm = GaussianMixture(n_components=2,covariance_type='diag')"
   ]
  },
  {
   "cell_type": "code",
   "execution_count": 21,
   "metadata": {},
   "outputs": [],
   "source": [
    "############  TRAINING ##########\n",
    "#gmm.fit(features)\n",
    "pa=\"models/\"\n",
    "for i in range(0,len(phonemes)):\n",
    "    gmm.fit(features[labels==phonemes[i]])\n",
    "    if(phonemes[i]==''):\n",
    "        filename=\"null.pkl\"\n",
    "    else:\n",
    "        filename=phonemes[i]+\".pkl\"\n",
    "    f=open(pa+filename,\"wb\")\n",
    "    pickle.dump(gmm,f)"
   ]
  },
  {
   "cell_type": "code",
   "execution_count": 22,
   "metadata": {},
   "outputs": [
    {
     "data": {
      "text/plain": [
       "GaussianMixture(covariance_type='diag', init_params='kmeans', max_iter=100,\n",
       "        means_init=None, n_components=2, n_init=1, precisions_init=None,\n",
       "        random_state=None, reg_covar=1e-06, tol=0.001, verbose=0,\n",
       "        verbose_interval=10, warm_start=False, weights_init=None)"
      ]
     },
     "execution_count": 22,
     "metadata": {},
     "output_type": "execute_result"
    }
   ],
   "source": [
    "gmm.fit(features)"
   ]
  },
  {
   "cell_type": "code",
   "execution_count": null,
   "metadata": {},
   "outputs": [],
   "source": []
  }
 ],
 "metadata": {
  "kernelspec": {
   "display_name": "Python 3",
   "language": "python",
   "name": "python3"
  },
  "language_info": {
   "codemirror_mode": {
    "name": "ipython",
    "version": 3
   },
   "file_extension": ".py",
   "mimetype": "text/x-python",
   "name": "python",
   "nbconvert_exporter": "python",
   "pygments_lexer": "ipython3",
   "version": "3.5.2"
  }
 },
 "nbformat": 4,
 "nbformat_minor": 2
}
